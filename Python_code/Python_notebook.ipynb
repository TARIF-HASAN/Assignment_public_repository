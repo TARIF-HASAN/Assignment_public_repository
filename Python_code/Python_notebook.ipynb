{
  "cells": [
    {
      "cell_type": "markdown",
      "metadata": {
        "id": "hEAJ_kFtzM-M"
      },
      "source": [
        "### Ex : Ball falling under gravity"
      ]
    },
    {
      "cell_type": "code",
      "execution_count": 3,
      "metadata": {
        "colab": {
          "base_uri": "https://localhost:8080/",
          "height": 1000
        },
        "id": "4Bi-i4pqzQGj",
        "outputId": "176531e1-ebbd-4cdb-f306-2536a3168347"
      },
      "outputs": [
        {
          "name": "stdout",
          "output_type": "stream",
          "text": [
            "[[  10.    ]\n",
            " [  10.    ]\n",
            " [   9.7275]\n",
            " [   9.1825]\n",
            " [   8.365 ]\n",
            " [   7.275 ]\n",
            " [   5.9125]\n",
            " [   4.2775]\n",
            " [   2.37  ]\n",
            " [   0.19  ]\n",
            " [  -2.2625]\n",
            " [  -4.9875]\n",
            " [  -7.985 ]\n",
            " [ -11.255 ]\n",
            " [ -14.7975]\n",
            " [ -18.6125]\n",
            " [ -22.7   ]\n",
            " [ -27.06  ]\n",
            " [ -31.6925]\n",
            " [ -36.5975]\n",
            " [ -41.775 ]\n",
            " [ -47.225 ]\n",
            " [ -52.9475]\n",
            " [ -58.9425]\n",
            " [ -65.21  ]\n",
            " [ -71.75  ]\n",
            " [ -78.5625]\n",
            " [ -85.6475]\n",
            " [ -93.005 ]\n",
            " [-100.635 ]\n",
            " [-108.5375]]\n",
            "[  10.         9.86375    9.455      8.77375    7.82       6.59375\n",
            "    5.095      3.32375    1.28      -1.03625   -3.625     -6.48625\n",
            "   -9.62     -13.02625  -16.705    -20.65625  -24.88     -29.37625\n",
            "  -34.145    -39.18625  -44.5      -50.08625  -55.945    -62.07625\n",
            "  -68.48     -75.15625  -82.105    -89.32625  -96.82    -104.58625\n",
            " -112.625  ]\n"
          ]
        },
        {
          "data": {
            "image/png": "[encoded data removed]",
            "text/plain": [
              "<Figure size 500x380 with 1 Axes>"
            ]
          },
          "metadata": {},
          "output_type": "display_data"
        }
      ],
      "source": [
        "import numpy as np\n",
        "import statistics\n",
        "from scipy.linalg import solve\n",
        "from matplotlib import pyplot as plt\n",
        "\n",
        "t_max = 5;\n",
        "n_max = 31;\n",
        "#np = n_max;\n",
        "h = 10;\n",
        "g = -9.81;\n",
        "v_ini=0;\n",
        "\n",
        "t_domain = np.linspace(0, t_max, n_max)\n",
        "res = [t_domain[i + 1] - t_domain[i] for i in range(len(t_domain)-1)]\n",
        "dt = statistics.mean(res)\n",
        "\n",
        "#rhs side\n",
        "b=np.zeros((n_max,1))\n",
        "\n",
        "b=(g*dt*dt)+b\n",
        "b[0,0]=h\n",
        "b[1,0]=v_ini*dt\n",
        "\n",
        "\n",
        "#lhs side\n",
        "A=np.zeros((n_max,n_max))\n",
        "for i in range(2,n_max):\n",
        "  A[i,i-2]=1;\n",
        "  A[i,i-1]=-2;\n",
        "  A[i,i]=1;\n",
        "\n",
        "A[0,0]=1;\n",
        "A[1,0]=-1;\n",
        "A[1,1]=1;\n",
        "\n",
        "\n",
        "X = np.linalg.inv(A).dot(b)\n",
        "X_A=h+0.5*g*(np.square(t_domain))+v_ini*t_domain\n",
        "\n",
        "print(X)\n",
        "print(X_A)\n",
        "\n",
        "plt.rcParams[\"figure.figsize\"] = [5,3.8]\n",
        "plt.rcParams[\"figure.autolayout\"] = True\n",
        "plt.rcParams['axes.linewidth'] = 1\n",
        "plt.rc('xtick',labelsize=14)\n",
        "plt.rc('ytick',labelsize=14)\n",
        "\n",
        "h1, =plt.plot(t_domain,X_A,'r-',linewidth=2,label=\"analytical\")\n",
        "h2, =plt.plot(t_domain,X,'bo',linewidth=2,label=\"numerical\")\n",
        "\n",
        "plt.xlabel('t (s)',fontsize=20)\n",
        "plt.ylabel('x (mm)',fontsize=20)\n",
        "\n",
        "plt.xlim(0,t_max)\n",
        "plt.ylim(0,1.1*h)\n",
        "plt.margins(x=0, y=0)\n",
        "\n",
        "#\n",
        "first_legend = plt.legend(handles=[h1,h2], loc='lower right')\n",
        "plt.show()\n"
      ]
    },
    {
      "cell_type": "markdown",
      "metadata": {
        "id": "DSEvjM7CGur9"
      },
      "source": [
        "### Ex: Eigenvalues of a matrix"
      ]
    },
    {
      "cell_type": "code",
      "execution_count": 5,
      "metadata": {
        "colab": {
          "base_uri": "https://localhost:8080/"
        },
        "id": "-jVBOaPpGv0s",
        "outputId": "a477ff05-525d-48c9-c899-ddf336f9ec23"
      },
      "outputs": [
        {
          "name": "stdout",
          "output_type": "stream",
          "text": [
            "\n",
            " ee= [ 1.35484752+0.j -0.23872301+0.j  0.08625032+0.j]\n"
          ]
        }
      ],
      "source": [
        "from scipy import *\n",
        "import numpy as np\n",
        "\n",
        "M1=np.random.random((3, 3))\n",
        "ee=linalg.eigvals(M1)\n",
        "print('\\n ee=',ee)"
      ]
    },
    {
      "cell_type": "markdown",
      "metadata": {
        "id": "xs-kFutsG6YD"
      },
      "source": [
        "### Ex: SVD of a matrix"
      ]
    },
    {
      "cell_type": "code",
      "execution_count": 3,
      "metadata": {
        "colab": {
          "base_uri": "https://localhost:8080/"
        },
        "id": "HhgPGr6AHFQ7",
        "outputId": "ae03bd28-b6f3-4c54-c256-49af7657bf56"
      },
      "outputs": [
        {
          "name": "stdout",
          "output_type": "stream",
          "text": [
            "[[-0.52951507 -0.50604857 -0.68082937]\n",
            " [-0.44089565 -0.52148919  0.7305204 ]\n",
            " [-0.72472396  0.68699627  0.05302177]]\n"
          ]
        }
      ],
      "source": [
        "import numpy as np\n",
        "from scipy.linalg import svd\n",
        "\n",
        "M1=np.random.random((3, 3))\n",
        "U, s, VT = svd(M1)\n",
        "print(U)"
      ]
    }
  ],
  "metadata": {
    "colab": {
      "provenance": []
    },
    "kernelspec": {
      "display_name": "Python 3",
      "name": "python3"
    },
    "language_info": {
      "codemirror_mode": {
        "name": "ipython",
        "version": 3
      },
      "file_extension": ".py",
      "mimetype": "text/x-python",
      "name": "python",
      "nbconvert_exporter": "python",
      "pygments_lexer": "ipython3",
      "version": "3.11.5"
    }
  },
  "nbformat": 4,
  "nbformat_minor": 0
}
